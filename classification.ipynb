{
 "cells": [
  {
   "cell_type": "code",
   "execution_count": 1,
   "metadata": {},
   "outputs": [],
   "source": [
    "from pyspark.sql import SparkSession\n",
    "from pyspark.ml.classification import LogisticRegression\n",
    "from pyspark.ml.evaluation import BinaryClassificationEvaluator\n",
    "from pyspark.sql.functions import when\n",
    "from pyspark.ml.feature import VectorAssembler, StandardScaler"
   ]
  },
  {
   "cell_type": "code",
   "execution_count": 2,
   "metadata": {},
   "outputs": [],
   "source": [
    "spark = SparkSession.builder.getOrCreate()"
   ]
  },
  {
   "cell_type": "code",
   "execution_count": 3,
   "metadata": {},
   "outputs": [],
   "source": [
    "# load data\n",
    "df_training = spark.read.option(\"inferSchema\", \"true\").csv(\"./PlaneDelayTraining.csv\", header=True)\n",
    "df_test = spark.read.option(\"inferSchema\", \"true\").csv(\"./PlaneDelayTesting.csv\", header=True)\n",
    "\n",
    "# df_training.show()"
   ]
  },
  {
   "cell_type": "code",
   "execution_count": 4,
   "metadata": {},
   "outputs": [
    {
     "name": "stdout",
     "output_type": "stream",
     "text": [
      "+-------------+--------------+---------+---------+\n",
      "|TimeDeparture|LengthOfFlight|DayOfWeek|IsDelayed|\n",
      "+-------------+--------------+---------+---------+\n",
      "|          650|           313|        1|        0|\n",
      "|          515|           285|        3|        0|\n",
      "|          515|           285|        4|        0|\n",
      "|         1184|           161|        3|        0|\n",
      "|         1184|           161|        7|        0|\n",
      "|          775|           159|        3|        0|\n",
      "|          775|           159|        4|        0|\n",
      "|          700|           159|        5|        1|\n",
      "|         1230|            91|        4|        1|\n",
      "|         1135|            96|        7|        1|\n",
      "|         1135|            98|        7|        1|\n",
      "|          965|            88|        6|        1|\n",
      "|          965|            88|        5|        1|\n",
      "|          697|           193|        5|        0|\n",
      "|          697|           193|        4|        0|\n",
      "|          697|           193|        3|        0|\n",
      "|          870|            95|        6|        0|\n",
      "|          870|            96|        7|        0|\n",
      "|          487|           223|        3|        0|\n",
      "|          487|           223|        1|        0|\n",
      "+-------------+--------------+---------+---------+\n",
      "only showing top 20 rows\n",
      "\n"
     ]
    }
   ],
   "source": [
    "#select features\n",
    "# df_training = df_training.select(\"Airline\", \"DayOfWeek\", \"IsDelayed\", \"TicketPrice\")\n",
    "# df_test = df_test.select(\"Airline\", \"DayOfWeek\", \"IsDelayed\", \"TicketPrice\")\n",
    "\n",
    "# df_training = df_training.select(\"FlightID\", \"TimeDeparture\", \"IsDelayed\")\n",
    "# df_test = df_test.select(\"FlightID\", \"TimeDeparture\", \"IsDelayed\")\n",
    "\n",
    "df_training = df_training.select(\"TimeDeparture\", \"LengthOfFlight\", \"DayOfWeek\", \"IsDelayed\")\n",
    "df_test = df_test.select(\"TimeDeparture\", \"LengthOfFlight\", \"DayOfWeek\", \"IsDelayed\")\n",
    "\n",
    "df_test.show()"
   ]
  },
  {
   "cell_type": "code",
   "execution_count": 5,
   "metadata": {},
   "outputs": [
    {
     "name": "stdout",
     "output_type": "stream",
     "text": [
      "+-------------+--------------+---------+---------+\n",
      "|TimeDeparture|LengthOfFlight|DayOfWeek|IsDelayed|\n",
      "+-------------+--------------+---------+---------+\n",
      "|          650|           313|        1|        0|\n",
      "|          515|           285|        3|        0|\n",
      "|          515|           285|        4|        0|\n",
      "|         1184|           161|        3|        0|\n",
      "|         1184|           161|        7|        0|\n",
      "|          775|           159|        3|        0|\n",
      "|          775|           159|        4|        0|\n",
      "|          700|           159|        5|        1|\n",
      "|         1230|            91|        4|        1|\n",
      "|         1135|            96|        7|        1|\n",
      "|         1135|            98|        7|        1|\n",
      "|          965|            88|        6|        1|\n",
      "|          965|            88|        5|        1|\n",
      "|          697|           193|        5|        0|\n",
      "|          697|           193|        4|        0|\n",
      "|          697|           193|        3|        0|\n",
      "|          870|            95|        6|        0|\n",
      "|          870|            96|        7|        0|\n",
      "|          487|           223|        3|        0|\n",
      "|          487|           223|        1|        0|\n",
      "+-------------+--------------+---------+---------+\n",
      "only showing top 20 rows\n",
      "\n"
     ]
    }
   ],
   "source": [
    "# data preprocessing\n",
    "df_training = df_training.na.drop()\n",
    "df_test = df_test.na.drop()\n",
    "\n",
    "df_test.show()"
   ]
  },
  {
   "cell_type": "code",
   "execution_count": 6,
   "metadata": {},
   "outputs": [],
   "source": [
    "# transform\n",
    "# def transform(df):\n",
    "#     df = df.withColumn(\"Airline\", when(df[\"Airline\"] == \"DL\", 1)\\\n",
    "#                       .when(df[\"Airline\"] == \"FL\", 2)\\\n",
    "#                       .when(df[\"Airline\"] == \"EV\", 3))\n",
    "#     return df\n",
    "\n",
    "# df_training = transform(df_training)\n",
    "# df_test = transform(df_test)\n",
    "# df_training.show()"
   ]
  },
  {
   "cell_type": "code",
   "execution_count": 7,
   "metadata": {},
   "outputs": [
    {
     "name": "stdout",
     "output_type": "stream",
     "text": [
      "+-------------+--------------+---------+---------+------------------+--------------------+\n",
      "|TimeDeparture|LengthOfFlight|DayOfWeek|IsDelayed|          Features|      ScaledFeatures|\n",
      "+-------------+--------------+---------+---------+------------------+--------------------+\n",
      "|          650|           313|        1|        0| [650.0,313.0,1.0]|[2.32676835297385...|\n",
      "|          515|           285|        3|        0| [515.0,285.0,3.0]|[1.84351646427928...|\n",
      "|          515|           285|        4|        0| [515.0,285.0,4.0]|[1.84351646427928...|\n",
      "|         1184|           161|        3|        0|[1184.0,161.0,3.0]|[4.23829804603237...|\n",
      "|         1184|           161|        7|        0|[1184.0,161.0,7.0]|[4.23829804603237...|\n",
      "|          775|           159|        3|        0| [775.0,159.0,3.0]|[2.77422380546882...|\n",
      "|          775|           159|        4|        0| [775.0,159.0,4.0]|[2.77422380546882...|\n",
      "|          700|           159|        5|        1| [700.0,159.0,5.0]|[2.50575053397184...|\n",
      "|         1230|            91|        4|        1| [1230.0,91.0,4.0]|[4.40296165255052...|\n",
      "|         1135|            96|        7|        1| [1135.0,96.0,7.0]|[4.06289550865434...|\n",
      "|         1135|            98|        7|        1| [1135.0,98.0,7.0]|[4.06289550865434...|\n",
      "|          965|            88|        6|        1|  [965.0,88.0,6.0]|[3.45435609326118...|\n",
      "|          965|            88|        5|        1|  [965.0,88.0,5.0]|[3.45435609326118...|\n",
      "|          697|           193|        5|        0| [697.0,193.0,5.0]|[2.49501160311196...|\n",
      "|          697|           193|        4|        0| [697.0,193.0,4.0]|[2.49501160311196...|\n",
      "|          697|           193|        3|        0| [697.0,193.0,3.0]|[2.49501160311196...|\n",
      "|          870|            95|        6|        0|  [870.0,95.0,6.0]|[3.11428994936500...|\n",
      "|          870|            96|        7|        0|  [870.0,96.0,7.0]|[3.11428994936500...|\n",
      "|          487|           223|        3|        0| [487.0,223.0,3.0]|[1.74328644292041...|\n",
      "|          487|           223|        1|        0| [487.0,223.0,1.0]|[1.74328644292041...|\n",
      "+-------------+--------------+---------+---------+------------------+--------------------+\n",
      "only showing top 20 rows\n",
      "\n"
     ]
    }
   ],
   "source": [
    "# normalization\n",
    "\n",
    "cols = df_training.columns\n",
    "cols.remove(\"IsDelayed\")\n",
    "\n",
    "assembler = VectorAssembler(inputCols=cols, outputCol=\"Features\")\n",
    "scaler = StandardScaler(inputCol=\"Features\", outputCol=\"ScaledFeatures\")\n",
    "\n",
    "df_training = assembler.transform(df_training)\n",
    "df_training = scaler.fit(df_training).transform(df_training)\n",
    "\n",
    "df_test = assembler.transform(df_test)\n",
    "df_test = scaler.fit(df_test).transform(df_test)\n",
    "\n",
    "df_test.show()"
   ]
  },
  {
   "cell_type": "code",
   "execution_count": 8,
   "metadata": {},
   "outputs": [],
   "source": [
    "# generate model\n",
    "model = LogisticRegression(featuresCol=\"ScaledFeatures\", labelCol=\"IsDelayed\", maxIter=1000).fit(df_training)\n",
    "\n",
    "prediction = model.transform(df_test)\n",
    "# prediction.select(\"Airline\", \"DayOfWeek\", \"IsDelayed\", \"TicketPrice\").show(10)\n",
    "# prediction.select(\"FlightID\", \"TimeDeparture\",\"IsDelayed\").show(10)\n"
   ]
  },
  {
   "cell_type": "code",
   "execution_count": 9,
   "metadata": {},
   "outputs": [
    {
     "name": "stdout",
     "output_type": "stream",
     "text": [
      "81.01%\n"
     ]
    }
   ],
   "source": [
    "# model testing & evaluation\n",
    "evaluator = BinaryClassificationEvaluator(labelCol=\"IsDelayed\")\n",
    "accuracy = round(evaluator.evaluate(prediction) * 100, 2)\n",
    "\n",
    "print(f\"{accuracy}%\")"
   ]
  }
 ],
 "metadata": {
  "kernelspec": {
   "display_name": "Python 3",
   "language": "python",
   "name": "python3"
  },
  "language_info": {
   "codemirror_mode": {
    "name": "ipython",
    "version": 3
   },
   "file_extension": ".py",
   "mimetype": "text/x-python",
   "name": "python",
   "nbconvert_exporter": "python",
   "pygments_lexer": "ipython3",
   "version": "3.7.4"
  }
 },
 "nbformat": 4,
 "nbformat_minor": 2
}
