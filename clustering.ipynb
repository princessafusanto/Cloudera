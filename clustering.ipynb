{
  "nbformat": 4,
  "nbformat_minor": 0,
  "metadata": {
    "colab": {
      "provenance": [],
      "authorship_tag": "ABX9TyNzGn6eleRKF3PWmvJCsHDc",
      "include_colab_link": true
    },
    "kernelspec": {
      "name": "python3",
      "display_name": "Python 3"
    },
    "language_info": {
      "name": "python"
    }
  },
  "cells": [
    {
      "cell_type": "markdown",
      "metadata": {
        "id": "view-in-github",
        "colab_type": "text"
      },
      "source": [
        "<a href=\"https://colab.research.google.com/github/princessafusanto/Cloudera/blob/main/clustering.ipynb\" target=\"_parent\"><img src=\"https://colab.research.google.com/assets/colab-badge.svg\" alt=\"Open In Colab\"/></a>"
      ]
    },
    {
      "cell_type": "code",
      "execution_count": null,
      "metadata": {
        "id": "wEFiMIFpqPok"
      },
      "outputs": [],
      "source": [
        "from pyspark.sql import SparkSession\n",
        "from pyspark.ml.clustering import KMeans\n",
        "from pyspark.ml.feature import VectorAssembler, StandardScaler\n",
        "from pyspark.sql.functions import when, col\n",
        "import matplotlib.pyplot as plt"
      ]
    },
    {
      "cell_type": "code",
      "source": [
        "spark = SparkSession.builder.getOrCreate()"
      ],
      "metadata": {
        "id": "uwyrV1z5qZiR"
      },
      "execution_count": null,
      "outputs": []
    },
    {
      "cell_type": "code",
      "source": [
        "# load data\n",
        "data = spark.read.option(\"inferSchema\", \"true\").csv(\"./Clustering.csv\", header=True)\n",
        "data.show()\n",
        "\n",
        "# select features\n",
        "data = data.select('Oil Concentration', 'Trash Pollution', 'Bacteria Level')\n",
        "data.show()"
      ],
      "metadata": {
        "id": "__8_2LySqaY3"
      },
      "execution_count": null,
      "outputs": []
    },
    {
      "cell_type": "code",
      "source": [
        "# data preprocess\n",
        "data = data.na.drop()"
      ],
      "metadata": {
        "id": "7qj5UDuqqcCp"
      },
      "execution_count": null,
      "outputs": []
    },
    {
      "cell_type": "code",
      "source": [
        "# transform\n",
        "def transformRep(df):\n",
        "    df = df.withColumn(\"Trash Pollution\", when(df[\"Trash Pollution\"] == \"Low\", 0.0)\\\n",
        "                       .when(df[\"Trash Pollution\"] == \"Medium\", 1.0)\\\n",
        "                       .when(df[\"Trash Pollution\"] == \"High\", 2.0))\n",
        "    return df\n",
        "\n",
        "def transformCast(df):\n",
        "    df = df.withColumn('Trash Pollution', df['Trash Pollution'].cast('double'))\n",
        "    df = df.withColumn('Oil Concentration', df['Oil Concentration'].cast('double'))\n",
        "    df = df.withColumn('Bacteria Level', df['Bacteria Level'].cast('double'))\n",
        "    return df\n",
        "\n",
        "data = transformRep(data)\n",
        "data = transformCast(data)\n",
        "data.show()"
      ],
      "metadata": {
        "id": "fvkt_YfJqg9y"
      },
      "execution_count": null,
      "outputs": []
    },
    {
      "cell_type": "code",
      "source": [
        "# normalization\n",
        "cols = data.columns\n",
        "vectorAssembler = VectorAssembler(inputCols=cols, outputCol='AssembledFeatures')\n",
        "vector = vectorAssembler.transform(data)\n",
        "standardScaler = StandardScaler(inputCol='AssembledFeatures', outputCol='features').fit(vector)\n",
        "data = standardScaler.transform(vector)"
      ],
      "metadata": {
        "id": "hmSBox_4qiek"
      },
      "execution_count": null,
      "outputs": []
    },
    {
      "cell_type": "code",
      "source": [
        "#generate model\n",
        "model = KMeans().setK(2).setSeed(123).fit(data)\n",
        "\n",
        "# use model\n",
        "prediction = model.transform(data)"
      ],
      "metadata": {
        "id": "D_frUfMTqkjS"
      },
      "execution_count": null,
      "outputs": []
    },
    {
      "cell_type": "code",
      "source": [
        "#plot\n",
        "predictions = prediction.toPandas()\n",
        "plt.scatter(predictions['Oil Concentration'],\n",
        "           predictions['Bacteria Level'],\n",
        "           predictions['Trash Pollution'],\n",
        "           c=predictions['prediction'])\n",
        "plt.plot()"
      ],
      "metadata": {
        "id": "l7UPcSNAqnJT"
      },
      "execution_count": null,
      "outputs": []
    }
  ]
}